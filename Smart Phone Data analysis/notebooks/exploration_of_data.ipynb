{
 "metadata": {
  "language_info": {
   "codemirror_mode": {
    "name": "ipython",
    "version": 3
   },
   "file_extension": ".py",
   "mimetype": "text/x-python",
   "name": "python",
   "nbconvert_exporter": "python",
   "pygments_lexer": "ipython3",
   "version": "3.8.0-final"
  },
  "orig_nbformat": 2,
  "kernelspec": {
   "name": "python38032bitvishnu77253a330bc34c9b9e54a57237f1dcdb",
   "display_name": "Python 3.8.0 32-bit ('vishnu')",
   "language": "python"
  }
 },
 "nbformat": 4,
 "nbformat_minor": 2,
 "cells": [
  {
   "cell_type": "code",
   "execution_count": 4,
   "metadata": {},
   "outputs": [],
   "source": [
    "import pandas\n",
    "import seaborn\n",
    "import matplotlib.pyplot as plt\n",
    "import numpy"
   ]
  },
  {
   "cell_type": "code",
   "execution_count": 5,
   "metadata": {},
   "outputs": [],
   "source": [
    "data = pandas.read_csv(\"D:\\\\smart_phone_dataset\\\\archive\\\\project\\input\\\\modified.csv\")"
   ]
  },
  {
   "cell_type": "code",
   "execution_count": 6,
   "metadata": {},
   "outputs": [
    {
     "output_type": "stream",
     "name": "stdout",
     "text": [
      "<class 'pandas.core.frame.DataFrame'>\nRangeIndex: 10299 entries, 0 to 10298\nColumns: 564 entries, Unnamed: 0 to Activity\ndtypes: float64(561), int64(2), object(1)\nmemory usage: 44.3+ MB\n"
     ]
    }
   ],
   "source": [
    "data.info()"
   ]
  },
  {
   "cell_type": "code",
   "execution_count": 7,
   "metadata": {},
   "outputs": [
    {
     "output_type": "execute_result",
     "data": {
      "text/plain": [
       "         Unnamed: 0  tBodyAcc-mean()-X  tBodyAcc-mean()-Y  tBodyAcc-mean()-Z  \\\n",
       "count  10299.000000       10299.000000       10299.000000       10299.000000   \n",
       "mean    3045.267210           0.274347          -0.017743          -0.108925   \n",
       "std     2100.917321           0.067628           0.037128           0.053033   \n",
       "min        0.000000          -1.000000          -1.000000          -1.000000   \n",
       "25%     1287.000000           0.262625          -0.024902          -0.121019   \n",
       "50%     2574.000000           0.277174          -0.017162          -0.108596   \n",
       "75%     4776.500000           0.288354          -0.010625          -0.097589   \n",
       "max     7351.000000           1.000000           1.000000           1.000000   \n",
       "\n",
       "       tBodyAcc-std()-X  tBodyAcc-std()-Y  tBodyAcc-std()-Z  tBodyAcc-mad()-X  \\\n",
       "count      10299.000000      10299.000000      10299.000000      10299.000000   \n",
       "mean          -0.607784         -0.510191         -0.613064         -0.633593   \n",
       "std            0.438694          0.500240          0.403657          0.413333   \n",
       "min           -1.000000         -1.000000         -1.000000         -1.000000   \n",
       "25%           -0.992360         -0.976990         -0.979137         -0.993293   \n",
       "50%           -0.943030         -0.835032         -0.850773         -0.948244   \n",
       "75%           -0.250293         -0.057336         -0.278737         -0.302033   \n",
       "max            1.000000          1.000000          1.000000          1.000000   \n",
       "\n",
       "       tBodyAcc-mad()-Y  tBodyAcc-mad()-Z  ...  \\\n",
       "count      10299.000000      10299.000000  ...   \n",
       "mean          -0.525697         -0.614989  ...   \n",
       "std            0.484201          0.399034  ...   \n",
       "min           -1.000000         -1.000000  ...   \n",
       "25%           -0.977017         -0.979064  ...   \n",
       "50%           -0.843670         -0.845068  ...   \n",
       "75%           -0.087405         -0.288149  ...   \n",
       "max            1.000000          1.000000  ...   \n",
       "\n",
       "       fBodyBodyGyroJerkMag-skewness()  fBodyBodyGyroJerkMag-kurtosis()  \\\n",
       "count                     10299.000000                     10299.000000   \n",
       "mean                         -0.298592                        -0.617700   \n",
       "std                           0.320199                         0.308796   \n",
       "min                          -1.000000                        -1.000000   \n",
       "25%                          -0.536174                        -0.841847   \n",
       "50%                          -0.335160                        -0.703402   \n",
       "75%                          -0.113167                        -0.487981   \n",
       "max                           1.000000                         1.000000   \n",
       "\n",
       "       angle(tBodyAccMean,gravity)  angle(tBodyAccJerkMean),gravityMean)  \\\n",
       "count                 10299.000000                          10299.000000   \n",
       "mean                      0.007705                              0.002648   \n",
       "std                       0.336591                              0.447364   \n",
       "min                      -1.000000                             -1.000000   \n",
       "25%                      -0.124694                             -0.287031   \n",
       "50%                       0.008146                              0.007668   \n",
       "75%                       0.149005                              0.291490   \n",
       "max                       1.000000                              1.000000   \n",
       "\n",
       "       angle(tBodyGyroMean,gravityMean)  angle(tBodyGyroJerkMean,gravityMean)  \\\n",
       "count                      10299.000000                          10299.000000   \n",
       "mean                           0.017683                             -0.009219   \n",
       "std                            0.616188                              0.484770   \n",
       "min                           -1.000000                             -1.000000   \n",
       "25%                           -0.493108                             -0.389041   \n",
       "50%                            0.017192                             -0.007186   \n",
       "75%                            0.536137                              0.365996   \n",
       "max                            1.000000                              1.000000   \n",
       "\n",
       "       angle(X,gravityMean)  angle(Y,gravityMean)  angle(Z,gravityMean)  \\\n",
       "count          10299.000000          10299.000000          10299.000000   \n",
       "mean              -0.496522              0.063255             -0.054284   \n",
       "std                0.511158              0.305468              0.268898   \n",
       "min               -1.000000             -1.000000             -1.000000   \n",
       "25%               -0.817288              0.002151             -0.131880   \n",
       "50%               -0.715631              0.182028             -0.003882   \n",
       "75%               -0.521503              0.250790              0.102970   \n",
       "max                1.000000              1.000000              1.000000   \n",
       "\n",
       "            subject  \n",
       "count  10299.000000  \n",
       "mean      16.146422  \n",
       "std        8.679067  \n",
       "min        1.000000  \n",
       "25%        9.000000  \n",
       "50%       17.000000  \n",
       "75%       24.000000  \n",
       "max       30.000000  \n",
       "\n",
       "[8 rows x 563 columns]"
      ],
      "text/html": "<div>\n<style scoped>\n    .dataframe tbody tr th:only-of-type {\n        vertical-align: middle;\n    }\n\n    .dataframe tbody tr th {\n        vertical-align: top;\n    }\n\n    .dataframe thead th {\n        text-align: right;\n    }\n</style>\n<table border=\"1\" class=\"dataframe\">\n  <thead>\n    <tr style=\"text-align: right;\">\n      <th></th>\n      <th>Unnamed: 0</th>\n      <th>tBodyAcc-mean()-X</th>\n      <th>tBodyAcc-mean()-Y</th>\n      <th>tBodyAcc-mean()-Z</th>\n      <th>tBodyAcc-std()-X</th>\n      <th>tBodyAcc-std()-Y</th>\n      <th>tBodyAcc-std()-Z</th>\n      <th>tBodyAcc-mad()-X</th>\n      <th>tBodyAcc-mad()-Y</th>\n      <th>tBodyAcc-mad()-Z</th>\n      <th>...</th>\n      <th>fBodyBodyGyroJerkMag-skewness()</th>\n      <th>fBodyBodyGyroJerkMag-kurtosis()</th>\n      <th>angle(tBodyAccMean,gravity)</th>\n      <th>angle(tBodyAccJerkMean),gravityMean)</th>\n      <th>angle(tBodyGyroMean,gravityMean)</th>\n      <th>angle(tBodyGyroJerkMean,gravityMean)</th>\n      <th>angle(X,gravityMean)</th>\n      <th>angle(Y,gravityMean)</th>\n      <th>angle(Z,gravityMean)</th>\n      <th>subject</th>\n    </tr>\n  </thead>\n  <tbody>\n    <tr>\n      <th>count</th>\n      <td>10299.000000</td>\n      <td>10299.000000</td>\n      <td>10299.000000</td>\n      <td>10299.000000</td>\n      <td>10299.000000</td>\n      <td>10299.000000</td>\n      <td>10299.000000</td>\n      <td>10299.000000</td>\n      <td>10299.000000</td>\n      <td>10299.000000</td>\n      <td>...</td>\n      <td>10299.000000</td>\n      <td>10299.000000</td>\n      <td>10299.000000</td>\n      <td>10299.000000</td>\n      <td>10299.000000</td>\n      <td>10299.000000</td>\n      <td>10299.000000</td>\n      <td>10299.000000</td>\n      <td>10299.000000</td>\n      <td>10299.000000</td>\n    </tr>\n    <tr>\n      <th>mean</th>\n      <td>3045.267210</td>\n      <td>0.274347</td>\n      <td>-0.017743</td>\n      <td>-0.108925</td>\n      <td>-0.607784</td>\n      <td>-0.510191</td>\n      <td>-0.613064</td>\n      <td>-0.633593</td>\n      <td>-0.525697</td>\n      <td>-0.614989</td>\n      <td>...</td>\n      <td>-0.298592</td>\n      <td>-0.617700</td>\n      <td>0.007705</td>\n      <td>0.002648</td>\n      <td>0.017683</td>\n      <td>-0.009219</td>\n      <td>-0.496522</td>\n      <td>0.063255</td>\n      <td>-0.054284</td>\n      <td>16.146422</td>\n    </tr>\n    <tr>\n      <th>std</th>\n      <td>2100.917321</td>\n      <td>0.067628</td>\n      <td>0.037128</td>\n      <td>0.053033</td>\n      <td>0.438694</td>\n      <td>0.500240</td>\n      <td>0.403657</td>\n      <td>0.413333</td>\n      <td>0.484201</td>\n      <td>0.399034</td>\n      <td>...</td>\n      <td>0.320199</td>\n      <td>0.308796</td>\n      <td>0.336591</td>\n      <td>0.447364</td>\n      <td>0.616188</td>\n      <td>0.484770</td>\n      <td>0.511158</td>\n      <td>0.305468</td>\n      <td>0.268898</td>\n      <td>8.679067</td>\n    </tr>\n    <tr>\n      <th>min</th>\n      <td>0.000000</td>\n      <td>-1.000000</td>\n      <td>-1.000000</td>\n      <td>-1.000000</td>\n      <td>-1.000000</td>\n      <td>-1.000000</td>\n      <td>-1.000000</td>\n      <td>-1.000000</td>\n      <td>-1.000000</td>\n      <td>-1.000000</td>\n      <td>...</td>\n      <td>-1.000000</td>\n      <td>-1.000000</td>\n      <td>-1.000000</td>\n      <td>-1.000000</td>\n      <td>-1.000000</td>\n      <td>-1.000000</td>\n      <td>-1.000000</td>\n      <td>-1.000000</td>\n      <td>-1.000000</td>\n      <td>1.000000</td>\n    </tr>\n    <tr>\n      <th>25%</th>\n      <td>1287.000000</td>\n      <td>0.262625</td>\n      <td>-0.024902</td>\n      <td>-0.121019</td>\n      <td>-0.992360</td>\n      <td>-0.976990</td>\n      <td>-0.979137</td>\n      <td>-0.993293</td>\n      <td>-0.977017</td>\n      <td>-0.979064</td>\n      <td>...</td>\n      <td>-0.536174</td>\n      <td>-0.841847</td>\n      <td>-0.124694</td>\n      <td>-0.287031</td>\n      <td>-0.493108</td>\n      <td>-0.389041</td>\n      <td>-0.817288</td>\n      <td>0.002151</td>\n      <td>-0.131880</td>\n      <td>9.000000</td>\n    </tr>\n    <tr>\n      <th>50%</th>\n      <td>2574.000000</td>\n      <td>0.277174</td>\n      <td>-0.017162</td>\n      <td>-0.108596</td>\n      <td>-0.943030</td>\n      <td>-0.835032</td>\n      <td>-0.850773</td>\n      <td>-0.948244</td>\n      <td>-0.843670</td>\n      <td>-0.845068</td>\n      <td>...</td>\n      <td>-0.335160</td>\n      <td>-0.703402</td>\n      <td>0.008146</td>\n      <td>0.007668</td>\n      <td>0.017192</td>\n      <td>-0.007186</td>\n      <td>-0.715631</td>\n      <td>0.182028</td>\n      <td>-0.003882</td>\n      <td>17.000000</td>\n    </tr>\n    <tr>\n      <th>75%</th>\n      <td>4776.500000</td>\n      <td>0.288354</td>\n      <td>-0.010625</td>\n      <td>-0.097589</td>\n      <td>-0.250293</td>\n      <td>-0.057336</td>\n      <td>-0.278737</td>\n      <td>-0.302033</td>\n      <td>-0.087405</td>\n      <td>-0.288149</td>\n      <td>...</td>\n      <td>-0.113167</td>\n      <td>-0.487981</td>\n      <td>0.149005</td>\n      <td>0.291490</td>\n      <td>0.536137</td>\n      <td>0.365996</td>\n      <td>-0.521503</td>\n      <td>0.250790</td>\n      <td>0.102970</td>\n      <td>24.000000</td>\n    </tr>\n    <tr>\n      <th>max</th>\n      <td>7351.000000</td>\n      <td>1.000000</td>\n      <td>1.000000</td>\n      <td>1.000000</td>\n      <td>1.000000</td>\n      <td>1.000000</td>\n      <td>1.000000</td>\n      <td>1.000000</td>\n      <td>1.000000</td>\n      <td>1.000000</td>\n      <td>...</td>\n      <td>1.000000</td>\n      <td>1.000000</td>\n      <td>1.000000</td>\n      <td>1.000000</td>\n      <td>1.000000</td>\n      <td>1.000000</td>\n      <td>1.000000</td>\n      <td>1.000000</td>\n      <td>1.000000</td>\n      <td>30.000000</td>\n    </tr>\n  </tbody>\n</table>\n<p>8 rows × 563 columns</p>\n</div>"
     },
     "metadata": {},
     "execution_count": 7
    }
   ],
   "source": [
    "data.describe()"
   ]
  },
  {
   "source": [
    "Univariate analysis"
   ],
   "cell_type": "markdown",
   "metadata": {}
  },
  {
   "cell_type": "code",
   "execution_count": 8,
   "metadata": {},
   "outputs": [],
   "source": [
    "numerical_features = data.select_dtypes(include = numpy.number)"
   ]
  },
  {
   "cell_type": "code",
   "execution_count": 9,
   "metadata": {},
   "outputs": [
    {
     "output_type": "execute_result",
     "data": {
      "text/plain": [
       "Unnamed: 0                                int64\n",
       "tBodyAcc-mean()-X                       float64\n",
       "tBodyAcc-mean()-Y                       float64\n",
       "tBodyAcc-mean()-Z                       float64\n",
       "tBodyAcc-std()-X                        float64\n",
       "                                         ...   \n",
       "angle(tBodyGyroJerkMean,gravityMean)    float64\n",
       "angle(X,gravityMean)                    float64\n",
       "angle(Y,gravityMean)                    float64\n",
       "angle(Z,gravityMean)                    float64\n",
       "subject                                   int64\n",
       "Length: 563, dtype: object"
      ]
     },
     "metadata": {},
     "execution_count": 9
    }
   ],
   "source": [
    "numerical_features.dtypes"
   ]
  },
  {
   "cell_type": "code",
   "execution_count": 10,
   "metadata": {},
   "outputs": [],
   "source": [
    "columns = data.columns"
   ]
  },
  {
   "cell_type": "code",
   "execution_count": null,
   "metadata": {},
   "outputs": [],
   "source": [
    "plt.figure(figsize=(7,7))\n",
    "for i in range(len(columns)):\n",
    "    seaborn.distplot(data[str(columns[i])])\n",
    "    plt.xlabel(str(columns[i]))\n",
    "    plt.title(\"distribution\")\n",
    "    plt.show()"
   ]
  },
  {
   "cell_type": "code",
   "execution_count": 13,
   "metadata": {},
   "outputs": [
    {
     "output_type": "execute_result",
     "data": {
      "text/plain": [
       "LAYING                1944\n",
       "STANDING              1906\n",
       "SITTING               1777\n",
       "WALKING               1722\n",
       "WALKING_UPSTAIRS      1544\n",
       "WALKING_DOWNSTAIRS    1406\n",
       "Name: Activity, dtype: int64"
      ]
     },
     "metadata": {},
     "execution_count": 13
    }
   ],
   "source": [
    "data[\"Activity\"].value_counts()"
   ]
  },
  {
   "cell_type": "code",
   "execution_count": 17,
   "metadata": {},
   "outputs": [
    {
     "output_type": "stream",
     "name": "stdout",
     "text": [
      "['WALKING', 'STANDING', 'WALKING_DOWNSTAIRS', 'WALKING_UPSTAIRS', 'LAYING', 'SITTING']\n"
     ]
    }
   ],
   "source": [
    "k = list(set(data['Activity']))\n",
    "print(k)"
   ]
  },
  {
   "cell_type": "code",
   "execution_count": 20,
   "metadata": {},
   "outputs": [],
   "source": [
    "dict1 = { }\n",
    "for idx,position in enumerate(k):\n",
    "    dict1[str(position)] = idx"
   ]
  },
  {
   "cell_type": "code",
   "execution_count": 22,
   "metadata": {},
   "outputs": [],
   "source": [
    "data['Activity'] = data['Activity'].replace(dict1)"
   ]
  },
  {
   "cell_type": "code",
   "execution_count": 23,
   "metadata": {},
   "outputs": [
    {
     "output_type": "execute_result",
     "data": {
      "text/plain": [
       "4    1944\n",
       "1    1906\n",
       "5    1777\n",
       "0    1722\n",
       "3    1544\n",
       "2    1406\n",
       "Name: Activity, dtype: int64"
      ]
     },
     "metadata": {},
     "execution_count": 23
    }
   ],
   "source": [
    "data['Activity'].value_counts()"
   ]
  },
  {
   "cell_type": "code",
   "execution_count": 28,
   "metadata": {},
   "outputs": [
    {
     "output_type": "execute_result",
     "data": {
      "text/plain": [
       "<AxesSubplot:>"
      ]
     },
     "metadata": {},
     "execution_count": 28
    },
    {
     "output_type": "error",
     "ename": "MemoryError",
     "evalue": "",
     "traceback": [
      "\u001b[1;31m---------------------------------------------------------------------------\u001b[0m",
      "\u001b[1;31mMemoryError\u001b[0m                               Traceback (most recent call last)",
      "\u001b[1;32m~\\envs\\vishnu\\lib\\site-packages\\ipykernel\\pylab\\backend_inline.py\u001b[0m in \u001b[0;36mshow\u001b[1;34m(close, block)\u001b[0m\n\u001b[0;32m     39\u001b[0m     \u001b[1;32mtry\u001b[0m\u001b[1;33m:\u001b[0m\u001b[1;33m\u001b[0m\u001b[1;33m\u001b[0m\u001b[0m\n\u001b[0;32m     40\u001b[0m         \u001b[1;32mfor\u001b[0m \u001b[0mfigure_manager\u001b[0m \u001b[1;32min\u001b[0m \u001b[0mGcf\u001b[0m\u001b[1;33m.\u001b[0m\u001b[0mget_all_fig_managers\u001b[0m\u001b[1;33m(\u001b[0m\u001b[1;33m)\u001b[0m\u001b[1;33m:\u001b[0m\u001b[1;33m\u001b[0m\u001b[1;33m\u001b[0m\u001b[0m\n\u001b[1;32m---> 41\u001b[1;33m             display(\n\u001b[0m\u001b[0;32m     42\u001b[0m                 \u001b[0mfigure_manager\u001b[0m\u001b[1;33m.\u001b[0m\u001b[0mcanvas\u001b[0m\u001b[1;33m.\u001b[0m\u001b[0mfigure\u001b[0m\u001b[1;33m,\u001b[0m\u001b[1;33m\u001b[0m\u001b[1;33m\u001b[0m\u001b[0m\n\u001b[0;32m     43\u001b[0m                 \u001b[0mmetadata\u001b[0m\u001b[1;33m=\u001b[0m\u001b[0m_fetch_figure_metadata\u001b[0m\u001b[1;33m(\u001b[0m\u001b[0mfigure_manager\u001b[0m\u001b[1;33m.\u001b[0m\u001b[0mcanvas\u001b[0m\u001b[1;33m.\u001b[0m\u001b[0mfigure\u001b[0m\u001b[1;33m)\u001b[0m\u001b[1;33m\u001b[0m\u001b[1;33m\u001b[0m\u001b[0m\n",
      "\u001b[1;32m~\\envs\\vishnu\\lib\\site-packages\\IPython\\core\\display.py\u001b[0m in \u001b[0;36mdisplay\u001b[1;34m(include, exclude, metadata, transient, display_id, *objs, **kwargs)\u001b[0m\n\u001b[0;32m    318\u001b[0m                 \u001b[1;31m# kwarg-specified metadata gets precedence\u001b[0m\u001b[1;33m\u001b[0m\u001b[1;33m\u001b[0m\u001b[1;33m\u001b[0m\u001b[0m\n\u001b[0;32m    319\u001b[0m                 \u001b[0m_merge\u001b[0m\u001b[1;33m(\u001b[0m\u001b[0mmd_dict\u001b[0m\u001b[1;33m,\u001b[0m \u001b[0mmetadata\u001b[0m\u001b[1;33m)\u001b[0m\u001b[1;33m\u001b[0m\u001b[1;33m\u001b[0m\u001b[0m\n\u001b[1;32m--> 320\u001b[1;33m             \u001b[0mpublish_display_data\u001b[0m\u001b[1;33m(\u001b[0m\u001b[0mdata\u001b[0m\u001b[1;33m=\u001b[0m\u001b[0mformat_dict\u001b[0m\u001b[1;33m,\u001b[0m \u001b[0mmetadata\u001b[0m\u001b[1;33m=\u001b[0m\u001b[0mmd_dict\u001b[0m\u001b[1;33m,\u001b[0m \u001b[1;33m**\u001b[0m\u001b[0mkwargs\u001b[0m\u001b[1;33m)\u001b[0m\u001b[1;33m\u001b[0m\u001b[1;33m\u001b[0m\u001b[0m\n\u001b[0m\u001b[0;32m    321\u001b[0m     \u001b[1;32mif\u001b[0m \u001b[0mdisplay_id\u001b[0m\u001b[1;33m:\u001b[0m\u001b[1;33m\u001b[0m\u001b[1;33m\u001b[0m\u001b[0m\n\u001b[0;32m    322\u001b[0m         \u001b[1;32mreturn\u001b[0m \u001b[0mDisplayHandle\u001b[0m\u001b[1;33m(\u001b[0m\u001b[0mdisplay_id\u001b[0m\u001b[1;33m)\u001b[0m\u001b[1;33m\u001b[0m\u001b[1;33m\u001b[0m\u001b[0m\n",
      "\u001b[1;32m~\\envs\\vishnu\\lib\\site-packages\\IPython\\core\\display.py\u001b[0m in \u001b[0;36mpublish_display_data\u001b[1;34m(data, metadata, source, transient, **kwargs)\u001b[0m\n\u001b[0;32m    117\u001b[0m         \u001b[0mkwargs\u001b[0m\u001b[1;33m[\u001b[0m\u001b[1;34m'transient'\u001b[0m\u001b[1;33m]\u001b[0m \u001b[1;33m=\u001b[0m \u001b[0mtransient\u001b[0m\u001b[1;33m\u001b[0m\u001b[1;33m\u001b[0m\u001b[0m\n\u001b[0;32m    118\u001b[0m \u001b[1;33m\u001b[0m\u001b[0m\n\u001b[1;32m--> 119\u001b[1;33m     display_pub.publish(\n\u001b[0m\u001b[0;32m    120\u001b[0m         \u001b[0mdata\u001b[0m\u001b[1;33m=\u001b[0m\u001b[0mdata\u001b[0m\u001b[1;33m,\u001b[0m\u001b[1;33m\u001b[0m\u001b[1;33m\u001b[0m\u001b[0m\n\u001b[0;32m    121\u001b[0m         \u001b[0mmetadata\u001b[0m\u001b[1;33m=\u001b[0m\u001b[0mmetadata\u001b[0m\u001b[1;33m,\u001b[0m\u001b[1;33m\u001b[0m\u001b[1;33m\u001b[0m\u001b[0m\n",
      "\u001b[1;32m~\\envs\\vishnu\\lib\\site-packages\\ipykernel\\zmqshell.py\u001b[0m in \u001b[0;36mpublish\u001b[1;34m(self, data, metadata, source, transient, update)\u001b[0m\n\u001b[0;32m    139\u001b[0m                 \u001b[1;32mreturn\u001b[0m\u001b[1;33m\u001b[0m\u001b[1;33m\u001b[0m\u001b[0m\n\u001b[0;32m    140\u001b[0m \u001b[1;33m\u001b[0m\u001b[0m\n\u001b[1;32m--> 141\u001b[1;33m         self.session.send(\n\u001b[0m\u001b[0;32m    142\u001b[0m             \u001b[0mself\u001b[0m\u001b[1;33m.\u001b[0m\u001b[0mpub_socket\u001b[0m\u001b[1;33m,\u001b[0m \u001b[0mmsg\u001b[0m\u001b[1;33m,\u001b[0m \u001b[0mident\u001b[0m\u001b[1;33m=\u001b[0m\u001b[0mself\u001b[0m\u001b[1;33m.\u001b[0m\u001b[0mtopic\u001b[0m\u001b[1;33m,\u001b[0m\u001b[1;33m\u001b[0m\u001b[1;33m\u001b[0m\u001b[0m\n\u001b[0;32m    143\u001b[0m         )\n",
      "\u001b[1;32m~\\envs\\vishnu\\lib\\site-packages\\jupyter_client\\session.py\u001b[0m in \u001b[0;36msend\u001b[1;34m(self, stream, msg_or_type, content, parent, ident, buffers, track, header, metadata)\u001b[0m\n\u001b[0;32m    738\u001b[0m         \u001b[1;32mif\u001b[0m \u001b[0mself\u001b[0m\u001b[1;33m.\u001b[0m\u001b[0madapt_version\u001b[0m\u001b[1;33m:\u001b[0m\u001b[1;33m\u001b[0m\u001b[1;33m\u001b[0m\u001b[0m\n\u001b[0;32m    739\u001b[0m             \u001b[0mmsg\u001b[0m \u001b[1;33m=\u001b[0m \u001b[0madapt\u001b[0m\u001b[1;33m(\u001b[0m\u001b[0mmsg\u001b[0m\u001b[1;33m,\u001b[0m \u001b[0mself\u001b[0m\u001b[1;33m.\u001b[0m\u001b[0madapt_version\u001b[0m\u001b[1;33m)\u001b[0m\u001b[1;33m\u001b[0m\u001b[1;33m\u001b[0m\u001b[0m\n\u001b[1;32m--> 740\u001b[1;33m         \u001b[0mto_send\u001b[0m \u001b[1;33m=\u001b[0m \u001b[0mself\u001b[0m\u001b[1;33m.\u001b[0m\u001b[0mserialize\u001b[0m\u001b[1;33m(\u001b[0m\u001b[0mmsg\u001b[0m\u001b[1;33m,\u001b[0m \u001b[0mident\u001b[0m\u001b[1;33m)\u001b[0m\u001b[1;33m\u001b[0m\u001b[1;33m\u001b[0m\u001b[0m\n\u001b[0m\u001b[0;32m    741\u001b[0m         \u001b[0mto_send\u001b[0m\u001b[1;33m.\u001b[0m\u001b[0mextend\u001b[0m\u001b[1;33m(\u001b[0m\u001b[0mbuffers\u001b[0m\u001b[1;33m)\u001b[0m\u001b[1;33m\u001b[0m\u001b[1;33m\u001b[0m\u001b[0m\n\u001b[0;32m    742\u001b[0m         \u001b[0mlongest\u001b[0m \u001b[1;33m=\u001b[0m \u001b[0mmax\u001b[0m\u001b[1;33m(\u001b[0m\u001b[1;33m[\u001b[0m \u001b[0mlen\u001b[0m\u001b[1;33m(\u001b[0m\u001b[0ms\u001b[0m\u001b[1;33m)\u001b[0m \u001b[1;32mfor\u001b[0m \u001b[0ms\u001b[0m \u001b[1;32min\u001b[0m \u001b[0mto_send\u001b[0m \u001b[1;33m]\u001b[0m\u001b[1;33m)\u001b[0m\u001b[1;33m\u001b[0m\u001b[1;33m\u001b[0m\u001b[0m\n",
      "\u001b[1;32m~\\envs\\vishnu\\lib\\site-packages\\jupyter_client\\session.py\u001b[0m in \u001b[0;36mserialize\u001b[1;34m(self, msg, ident)\u001b[0m\n\u001b[0;32m    626\u001b[0m             \u001b[0mcontent\u001b[0m \u001b[1;33m=\u001b[0m \u001b[0mself\u001b[0m\u001b[1;33m.\u001b[0m\u001b[0mnone\u001b[0m\u001b[1;33m\u001b[0m\u001b[1;33m\u001b[0m\u001b[0m\n\u001b[0;32m    627\u001b[0m         \u001b[1;32melif\u001b[0m \u001b[0misinstance\u001b[0m\u001b[1;33m(\u001b[0m\u001b[0mcontent\u001b[0m\u001b[1;33m,\u001b[0m \u001b[0mdict\u001b[0m\u001b[1;33m)\u001b[0m\u001b[1;33m:\u001b[0m\u001b[1;33m\u001b[0m\u001b[1;33m\u001b[0m\u001b[0m\n\u001b[1;32m--> 628\u001b[1;33m             \u001b[0mcontent\u001b[0m \u001b[1;33m=\u001b[0m \u001b[0mself\u001b[0m\u001b[1;33m.\u001b[0m\u001b[0mpack\u001b[0m\u001b[1;33m(\u001b[0m\u001b[0mcontent\u001b[0m\u001b[1;33m)\u001b[0m\u001b[1;33m\u001b[0m\u001b[1;33m\u001b[0m\u001b[0m\n\u001b[0m\u001b[0;32m    629\u001b[0m         \u001b[1;32melif\u001b[0m \u001b[0misinstance\u001b[0m\u001b[1;33m(\u001b[0m\u001b[0mcontent\u001b[0m\u001b[1;33m,\u001b[0m \u001b[0mbytes\u001b[0m\u001b[1;33m)\u001b[0m\u001b[1;33m:\u001b[0m\u001b[1;33m\u001b[0m\u001b[1;33m\u001b[0m\u001b[0m\n\u001b[0;32m    630\u001b[0m             \u001b[1;31m# content is already packed, as in a relayed message\u001b[0m\u001b[1;33m\u001b[0m\u001b[1;33m\u001b[0m\u001b[1;33m\u001b[0m\u001b[0m\n",
      "\u001b[1;32m~\\envs\\vishnu\\lib\\site-packages\\jupyter_client\\session.py\u001b[0m in \u001b[0;36m<lambda>\u001b[1;34m(obj)\u001b[0m\n\u001b[0;32m     79\u001b[0m \u001b[1;31m# allow unicode\u001b[0m\u001b[1;33m\u001b[0m\u001b[1;33m\u001b[0m\u001b[1;33m\u001b[0m\u001b[0m\n\u001b[0;32m     80\u001b[0m \u001b[1;31m# disallow nan, because it's not actually valid JSON\u001b[0m\u001b[1;33m\u001b[0m\u001b[1;33m\u001b[0m\u001b[1;33m\u001b[0m\u001b[0m\n\u001b[1;32m---> 81\u001b[1;33m json_packer = lambda obj: jsonapi.dumps(obj, default=date_default,\n\u001b[0m\u001b[0;32m     82\u001b[0m     \u001b[0mensure_ascii\u001b[0m\u001b[1;33m=\u001b[0m\u001b[1;32mFalse\u001b[0m\u001b[1;33m,\u001b[0m \u001b[0mallow_nan\u001b[0m\u001b[1;33m=\u001b[0m\u001b[1;32mFalse\u001b[0m\u001b[1;33m,\u001b[0m\u001b[1;33m\u001b[0m\u001b[1;33m\u001b[0m\u001b[0m\n\u001b[0;32m     83\u001b[0m )\n",
      "\u001b[1;32m~\\envs\\vishnu\\lib\\site-packages\\zmq\\utils\\jsonapi.py\u001b[0m in \u001b[0;36mdumps\u001b[1;34m(o, **kwargs)\u001b[0m\n\u001b[0;32m     41\u001b[0m \u001b[1;33m\u001b[0m\u001b[0m\n\u001b[0;32m     42\u001b[0m     \u001b[1;32mif\u001b[0m \u001b[0misinstance\u001b[0m\u001b[1;33m(\u001b[0m\u001b[0ms\u001b[0m\u001b[1;33m,\u001b[0m \u001b[0municode\u001b[0m\u001b[1;33m)\u001b[0m\u001b[1;33m:\u001b[0m\u001b[1;33m\u001b[0m\u001b[1;33m\u001b[0m\u001b[0m\n\u001b[1;32m---> 43\u001b[1;33m         \u001b[0ms\u001b[0m \u001b[1;33m=\u001b[0m \u001b[0ms\u001b[0m\u001b[1;33m.\u001b[0m\u001b[0mencode\u001b[0m\u001b[1;33m(\u001b[0m\u001b[1;34m'utf8'\u001b[0m\u001b[1;33m)\u001b[0m\u001b[1;33m\u001b[0m\u001b[1;33m\u001b[0m\u001b[0m\n\u001b[0m\u001b[0;32m     44\u001b[0m \u001b[1;33m\u001b[0m\u001b[0m\n\u001b[0;32m     45\u001b[0m     \u001b[1;32mreturn\u001b[0m \u001b[0ms\u001b[0m\u001b[1;33m\u001b[0m\u001b[1;33m\u001b[0m\u001b[0m\n",
      "\u001b[1;31mMemoryError\u001b[0m: "
     ]
    }
   ],
   "source": [
    "correlation = data.corr()\n",
    "\n",
    "mask = numpy.triu(numpy.ones_like(correlation, dtype=bool))\n",
    "f, ax = plt.subplots(figsize=(11, 9))\n",
    "cmap = seaborn.diverging_palette(230, 20, as_cmap=True)\n",
    "seaborn.heatmap(correlation, mask=mask, cmap=cmap, vmax=.3, center=0, square=True, linewidths=.5, cbar_kws={\"shrink\":.5})"
   ]
  },
  {
   "cell_type": "code",
   "execution_count": null,
   "metadata": {},
   "outputs": [],
   "source": []
  }
 ]
}